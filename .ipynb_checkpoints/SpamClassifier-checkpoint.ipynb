{
 "cells": [
  {
   "cell_type": "markdown",
   "id": "5337cc6a",
   "metadata": {},
   "source": [
    "# SMS/EMAIL SPAM CLASSIFIER ML PROJECT"
   ]
  },
  {
   "cell_type": "code",
   "execution_count": 16,
   "id": "f43861e8",
   "metadata": {},
   "outputs": [],
   "source": [
    "import numpy as np\n",
    "import pandas as pd"
   ]
  },
  {
   "cell_type": "code",
   "execution_count": 20,
   "id": "d6ee82f7",
   "metadata": {},
   "outputs": [
    {
     "data": {
      "text/html": [
       "<div>\n",
       "<style scoped>\n",
       "    .dataframe tbody tr th:only-of-type {\n",
       "        vertical-align: middle;\n",
       "    }\n",
       "\n",
       "    .dataframe tbody tr th {\n",
       "        vertical-align: top;\n",
       "    }\n",
       "\n",
       "    .dataframe thead th {\n",
       "        text-align: right;\n",
       "    }\n",
       "</style>\n",
       "<table border=\"1\" class=\"dataframe\">\n",
       "  <thead>\n",
       "    <tr style=\"text-align: right;\">\n",
       "      <th></th>\n",
       "      <th>v1</th>\n",
       "      <th>v2</th>\n",
       "      <th>Unnamed: 2</th>\n",
       "      <th>Unnamed: 3</th>\n",
       "      <th>Unnamed: 4</th>\n",
       "    </tr>\n",
       "  </thead>\n",
       "  <tbody>\n",
       "    <tr>\n",
       "      <th>3804</th>\n",
       "      <td>ham</td>\n",
       "      <td>Dude while were makin those weirdy brownies my...</td>\n",
       "      <td>NaN</td>\n",
       "      <td>NaN</td>\n",
       "      <td>NaN</td>\n",
       "    </tr>\n",
       "    <tr>\n",
       "      <th>1776</th>\n",
       "      <td>spam</td>\n",
       "      <td>Call FREEPHONE 0800 542 0578 now!</td>\n",
       "      <td>NaN</td>\n",
       "      <td>NaN</td>\n",
       "      <td>NaN</td>\n",
       "    </tr>\n",
       "    <tr>\n",
       "      <th>1053</th>\n",
       "      <td>ham</td>\n",
       "      <td>Jay's getting really impatient and belligerent</td>\n",
       "      <td>NaN</td>\n",
       "      <td>NaN</td>\n",
       "      <td>NaN</td>\n",
       "    </tr>\n",
       "    <tr>\n",
       "      <th>4793</th>\n",
       "      <td>ham</td>\n",
       "      <td>Sorry that was my uncle. I.ll keep in touch</td>\n",
       "      <td>NaN</td>\n",
       "      <td>NaN</td>\n",
       "      <td>NaN</td>\n",
       "    </tr>\n",
       "    <tr>\n",
       "      <th>3973</th>\n",
       "      <td>ham</td>\n",
       "      <td>Roger that. WeÛ÷re probably going to rem in a...</td>\n",
       "      <td>NaN</td>\n",
       "      <td>NaN</td>\n",
       "      <td>NaN</td>\n",
       "    </tr>\n",
       "  </tbody>\n",
       "</table>\n",
       "</div>"
      ],
      "text/plain": [
       "        v1                                                 v2 Unnamed: 2  \\\n",
       "3804   ham  Dude while were makin those weirdy brownies my...        NaN   \n",
       "1776  spam                  Call FREEPHONE 0800 542 0578 now!        NaN   \n",
       "1053   ham     Jay's getting really impatient and belligerent        NaN   \n",
       "4793   ham        Sorry that was my uncle. I.ll keep in touch        NaN   \n",
       "3973   ham  Roger that. WeÛ÷re probably going to rem in a...        NaN   \n",
       "\n",
       "     Unnamed: 3 Unnamed: 4  \n",
       "3804        NaN        NaN  \n",
       "1776        NaN        NaN  \n",
       "1053        NaN        NaN  \n",
       "4793        NaN        NaN  \n",
       "3973        NaN        NaN  "
      ]
     },
     "execution_count": 20,
     "metadata": {},
     "output_type": "execute_result"
    }
   ],
   "source": [
    "df=pd.read_csv('spam.csv', encoding='ISO-8859-1')\n",
    "df.sample(5) #to check only 5 rows od data set"
   ]
  },
  {
   "cell_type": "code",
   "execution_count": 21,
   "id": "73ee4a03",
   "metadata": {},
   "outputs": [
    {
     "data": {
      "text/plain": [
       "(5572, 5)"
      ]
     },
     "execution_count": 21,
     "metadata": {},
     "output_type": "execute_result"
    }
   ],
   "source": [
    "df.shape #to check how many rows and columns are their in data set"
   ]
  },
  {
   "cell_type": "markdown",
   "id": "8ad93b1c",
   "metadata": {},
   "source": [
    "# Stages To Solve Problem\n",
    "#### 1 Data Cleaning\n",
    "#### 2 EDA\n",
    "#### 3 Text Preprocessing\n",
    "#### 4 Model Building\n",
    "#### 5 Evaluation\n",
    "#### 6 Improvements(Depending Upon Evaluation)\n",
    "#### 7 Convert Into Website\n",
    "#### 8 Deploy"
   ]
  },
  {
   "cell_type": "markdown",
   "id": "614c82b1",
   "metadata": {},
   "source": [
    "## 1 Data Cleaning Process"
   ]
  },
  {
   "cell_type": "code",
   "execution_count": 22,
   "id": "dc70ce3a",
   "metadata": {},
   "outputs": [
    {
     "name": "stdout",
     "output_type": "stream",
     "text": [
      "<class 'pandas.core.frame.DataFrame'>\n",
      "RangeIndex: 5572 entries, 0 to 5571\n",
      "Data columns (total 5 columns):\n",
      " #   Column      Non-Null Count  Dtype \n",
      "---  ------      --------------  ----- \n",
      " 0   v1          5572 non-null   object\n",
      " 1   v2          5572 non-null   object\n",
      " 2   Unnamed: 2  50 non-null     object\n",
      " 3   Unnamed: 3  12 non-null     object\n",
      " 4   Unnamed: 4  6 non-null      object\n",
      "dtypes: object(5)\n",
      "memory usage: 217.8+ KB\n"
     ]
    }
   ],
   "source": [
    "df.info()"
   ]
  },
  {
   "cell_type": "code",
   "execution_count": 26,
   "id": "f761699a",
   "metadata": {},
   "outputs": [
    {
     "data": {
      "text/html": [
       "<div>\n",
       "<style scoped>\n",
       "    .dataframe tbody tr th:only-of-type {\n",
       "        vertical-align: middle;\n",
       "    }\n",
       "\n",
       "    .dataframe tbody tr th {\n",
       "        vertical-align: top;\n",
       "    }\n",
       "\n",
       "    .dataframe thead th {\n",
       "        text-align: right;\n",
       "    }\n",
       "</style>\n",
       "<table border=\"1\" class=\"dataframe\">\n",
       "  <thead>\n",
       "    <tr style=\"text-align: right;\">\n",
       "      <th></th>\n",
       "      <th>v1</th>\n",
       "      <th>v2</th>\n",
       "    </tr>\n",
       "  </thead>\n",
       "  <tbody>\n",
       "    <tr>\n",
       "      <th>4695</th>\n",
       "      <td>ham</td>\n",
       "      <td>A guy who gets used but is too dumb to realize...</td>\n",
       "    </tr>\n",
       "    <tr>\n",
       "      <th>4867</th>\n",
       "      <td>ham</td>\n",
       "      <td>Watching cartoon, listening music &amp;amp; at eve...</td>\n",
       "    </tr>\n",
       "    <tr>\n",
       "      <th>5527</th>\n",
       "      <td>ham</td>\n",
       "      <td>Total disappointment, when I texted you was th...</td>\n",
       "    </tr>\n",
       "    <tr>\n",
       "      <th>3962</th>\n",
       "      <td>ham</td>\n",
       "      <td>If you ask her or she say any please message.</td>\n",
       "    </tr>\n",
       "    <tr>\n",
       "      <th>1932</th>\n",
       "      <td>ham</td>\n",
       "      <td>Jus finished avatar nigro</td>\n",
       "    </tr>\n",
       "  </tbody>\n",
       "</table>\n",
       "</div>"
      ],
      "text/plain": [
       "       v1                                                 v2\n",
       "4695  ham  A guy who gets used but is too dumb to realize...\n",
       "4867  ham  Watching cartoon, listening music &amp; at eve...\n",
       "5527  ham  Total disappointment, when I texted you was th...\n",
       "3962  ham      If you ask her or she say any please message.\n",
       "1932  ham                          Jus finished avatar nigro"
      ]
     },
     "execution_count": 26,
     "metadata": {},
     "output_type": "execute_result"
    }
   ],
   "source": [
    "# we will drop last three columns because of null data\n",
    "df.drop(columns=['Unnamed: 2','Unnamed: 3','Unnamed: 4'],inplace=True)\n",
    "df.sample(5)"
   ]
  },
  {
   "cell_type": "code",
   "execution_count": 27,
   "id": "0497111a",
   "metadata": {},
   "outputs": [
    {
     "data": {
      "text/html": [
       "<div>\n",
       "<style scoped>\n",
       "    .dataframe tbody tr th:only-of-type {\n",
       "        vertical-align: middle;\n",
       "    }\n",
       "\n",
       "    .dataframe tbody tr th {\n",
       "        vertical-align: top;\n",
       "    }\n",
       "\n",
       "    .dataframe thead th {\n",
       "        text-align: right;\n",
       "    }\n",
       "</style>\n",
       "<table border=\"1\" class=\"dataframe\">\n",
       "  <thead>\n",
       "    <tr style=\"text-align: right;\">\n",
       "      <th></th>\n",
       "      <th>target</th>\n",
       "      <th>text</th>\n",
       "    </tr>\n",
       "  </thead>\n",
       "  <tbody>\n",
       "    <tr>\n",
       "      <th>5173</th>\n",
       "      <td>ham</td>\n",
       "      <td>U 2.</td>\n",
       "    </tr>\n",
       "    <tr>\n",
       "      <th>1942</th>\n",
       "      <td>ham</td>\n",
       "      <td>K...k:)why cant you come here and search job:)</td>\n",
       "    </tr>\n",
       "    <tr>\n",
       "      <th>4400</th>\n",
       "      <td>ham</td>\n",
       "      <td>Many times we lose our best ones bcoz we are</td>\n",
       "    </tr>\n",
       "    <tr>\n",
       "      <th>4252</th>\n",
       "      <td>ham</td>\n",
       "      <td>Juz now havent woke up so a bit blur blur... C...</td>\n",
       "    </tr>\n",
       "    <tr>\n",
       "      <th>2906</th>\n",
       "      <td>ham</td>\n",
       "      <td>ALRITE</td>\n",
       "    </tr>\n",
       "  </tbody>\n",
       "</table>\n",
       "</div>"
      ],
      "text/plain": [
       "     target                                               text\n",
       "5173    ham                                               U 2.\n",
       "1942    ham     K...k:)why cant you come here and search job:)\n",
       "4400    ham      Many times we lose our best ones bcoz we are \n",
       "4252    ham  Juz now havent woke up so a bit blur blur... C...\n",
       "2906    ham                                             ALRITE"
      ]
     },
     "execution_count": 27,
     "metadata": {},
     "output_type": "execute_result"
    }
   ],
   "source": [
    "# Now i will rename the column for better understanding\n",
    "df.rename(columns={\"v1\":\"target\",\"v2\":\"text\"},inplace=True)\n",
    "df.sample(5)"
   ]
  },
  {
   "cell_type": "code",
   "execution_count": null,
   "id": "667915d0",
   "metadata": {},
   "outputs": [],
   "source": []
  }
 ],
 "metadata": {
  "kernelspec": {
   "display_name": "Python 3 (ipykernel)",
   "language": "python",
   "name": "python3"
  },
  "language_info": {
   "codemirror_mode": {
    "name": "ipython",
    "version": 3
   },
   "file_extension": ".py",
   "mimetype": "text/x-python",
   "name": "python",
   "nbconvert_exporter": "python",
   "pygments_lexer": "ipython3",
   "version": "3.10.2"
  }
 },
 "nbformat": 4,
 "nbformat_minor": 5
}
